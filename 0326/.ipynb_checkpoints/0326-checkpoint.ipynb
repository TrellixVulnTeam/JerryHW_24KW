{
 "cells": [
  {
   "cell_type": "markdown",
   "metadata": {},
   "source": [
    "# Q1"
   ]
  },
  {
   "cell_type": "code",
   "execution_count": 7,
   "metadata": {},
   "outputs": [
    {
     "name": "stdout",
     "output_type": "stream",
     "text": [
      "輸入數字以空白分隔:45 3 25\n"
     ]
    },
    {
     "data": {
      "text/plain": [
       "[145, 103, 125]"
      ]
     },
     "execution_count": 7,
     "metadata": {},
     "output_type": "execute_result"
    }
   ],
   "source": [
    "n_str = input(\"輸入數字以空白分隔:\")\n",
    "n_list = n_str.split()\n",
    "for i in range(len(n_list)):\n",
    "    n_list[i] = int(n_list[i])\n",
    "list(map(lambda x:x + 100, n_list))"
   ]
  },
  {
   "cell_type": "markdown",
   "metadata": {},
   "source": [
    "# Q2"
   ]
  },
  {
   "cell_type": "code",
   "execution_count": 10,
   "metadata": {},
   "outputs": [
    {
     "name": "stdout",
     "output_type": "stream",
     "text": [
      "add_ints: 15\n"
     ]
    },
    {
     "data": {
      "text/plain": [
       "('multiply:', 44)"
      ]
     },
     "execution_count": 10,
     "metadata": {},
     "output_type": "execute_result"
    }
   ],
   "source": [
    "def multiply(func):\n",
    "    def new_function(a, b):\n",
    "        result = func(a,b)\n",
    "        print(\"add_ints:\", result)\n",
    "        return (\"multiply:\", a*b)\n",
    "    return new_function\n",
    "@multiply\n",
    "def add_ints(a, b):\n",
    "    return (a + b)\n",
    "add_ints(4, 11)"
   ]
  },
  {
   "cell_type": "markdown",
   "metadata": {},
   "source": [
    "# Q3"
   ]
  },
  {
   "cell_type": "code",
   "execution_count": 8,
   "metadata": {},
   "outputs": [
    {
     "name": "stdout",
     "output_type": "stream",
     "text": [
      "請輸入整數:jk\n",
      "出錯，請重新輸入\n"
     ]
    }
   ],
   "source": [
    "int_num = input(\"請輸入整數:\")\n",
    "try:\n",
    "    int(int_num)\n",
    "except:\n",
    "    print(\"出錯，請重新輸入\")"
   ]
  },
  {
   "cell_type": "markdown",
   "metadata": {},
   "source": [
    "# Q4"
   ]
  },
  {
   "cell_type": "code",
   "execution_count": 3,
   "metadata": {},
   "outputs": [
    {
     "name": "stdout",
     "output_type": "stream",
     "text": [
      "5 + 6 = 11\n",
      "8 - 2 = 6\n",
      "3 * 7 = 21\n",
      "8 / 4 = 2.0\n"
     ]
    }
   ],
   "source": [
    "from source import calculator\n",
    "calculator.cal(5,6,\"+\")\n",
    "calculator.cal(8,2,\"-\")\n",
    "calculator.cal(3,7,\"*\")\n",
    "calculator.cal(8,4,\"/\")"
   ]
  }
 ],
 "metadata": {
  "kernelspec": {
   "display_name": "Python 3",
   "language": "python",
   "name": "python3"
  },
  "language_info": {
   "codemirror_mode": {
    "name": "ipython",
    "version": 3
   },
   "file_extension": ".py",
   "mimetype": "text/x-python",
   "name": "python",
   "nbconvert_exporter": "python",
   "pygments_lexer": "ipython3",
   "version": "3.6.4"
  }
 },
 "nbformat": 4,
 "nbformat_minor": 2
}
